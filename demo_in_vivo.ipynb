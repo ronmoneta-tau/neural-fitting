version https://git-lfs.github.com/spec/v1
oid sha256:30ea0c4062945225ca280bf92ea83bfe71e1e0c3662abc9460cb6db32791f553
size 3368874
