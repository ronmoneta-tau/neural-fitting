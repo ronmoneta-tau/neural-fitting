version https://git-lfs.github.com/spec/v1
oid sha256:5e83469f0b7be7c2c76e307429a75a67f3ec84edb7f306d41997bbd697d52fa4
size 3368889
